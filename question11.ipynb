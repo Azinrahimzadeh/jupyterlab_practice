{
 "cells": [
  {
   "cell_type": "markdown",
   "id": "951bb671-0726-438d-bade-01088c1a518d",
   "metadata": {},
   "source": [
    "# Azin Rahimzadeh\n",
    "# Notebook for assignment 7"
   ]
  },
  {
   "cell_type": "code",
   "execution_count": 1,
   "id": "705555d2-c208-42c1-93e5-6195253ae3e1",
   "metadata": {},
   "outputs": [
    {
     "name": "stdout",
     "output_type": "stream",
     "text": [
      "5.0\n"
     ]
    }
   ],
   "source": [
    "def compute_mean(numbers):\n",
    "    \"\"\"Compute and print the mean of a list of numbers.\"\"\"\n",
    "    mean_value = sum(numbers) / len(numbers)\n",
    "    print(mean_value)\n",
    "\n",
    "# Call the function\n",
    "compute_mean([2, 4, 6, 8])"
   ]
  },
  {
   "cell_type": "markdown",
   "id": "67b015bf-7369-4fb3-b9e1-2736ca74f8c8",
   "metadata": {},
   "source": [
    "### Computing the Mean of a List  \n",
    "\n",
    "The function `compute_mean` takes a list of numbers, calculates the mean, and prints the result. The mean is computed by summing all elements in the list and dividing by the number of elements.  \n",
    "\n",
    "The mathematical formula for the mean is given by:  \n",
    "\n",
    "$$\n",
    "\\bar{x} = \\frac{\\sum_{i=1}^{n} x_i}{n}\n",
    "$$\n",
    "\n",
    "Alternatively, it can be written as:  \n",
    "\n",
    "$$\n",
    "\\bar{x} = \\frac{x_1 + x_2 + \\dots + x_n}{n}\n",
    "$$\n",
    "\n",
    "where:\n",
    "- $\\bar{x}$ represents the mean  \n",
    "- $ x_i $ are the individual data points  \n",
    "- $ n $ is the total number of data points"
   ]
  },
  {
   "cell_type": "code",
   "execution_count": null,
   "id": "21059a3e-1690-4487-911e-3d60d64e0144",
   "metadata": {},
   "outputs": [],
   "source": []
  }
 ],
 "metadata": {
  "kernelspec": {
   "display_name": "Python [conda env:base] *",
   "language": "python",
   "name": "conda-base-py"
  },
  "language_info": {
   "codemirror_mode": {
    "name": "ipython",
    "version": 3
   },
   "file_extension": ".py",
   "mimetype": "text/x-python",
   "name": "python",
   "nbconvert_exporter": "python",
   "pygments_lexer": "ipython3",
   "version": "3.10.16"
  }
 },
 "nbformat": 4,
 "nbformat_minor": 5
}
